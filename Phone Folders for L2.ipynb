{
 "cells": [
  {
   "cell_type": "code",
   "execution_count": 9,
   "metadata": {},
   "outputs": [],
   "source": [
    "import pandas as pd\n",
    "import numpy as np\n",
    "import librosa"
   ]
  },
  {
   "cell_type": "code",
   "execution_count": 5,
   "metadata": {},
   "outputs": [
    {
     "name": "stdout",
     "output_type": "stream",
     "text": [
      " Volume in drive D is DATA\n",
      " Volume Serial Number is F490-BACE\n",
      "\n",
      " Directory of D:\\Thesis Work\\InitialDemoWork\\Cambridge_bigger USING LIBROSA\n",
      "\n",
      "05/26/2019  12:42 PM    <DIR>          .\n",
      "05/26/2019  12:42 PM    <DIR>          ..\n",
      "05/26/2019  12:42 PM    <DIR>          .ipynb_checkpoints\n",
      "05/15/2019  03:44 PM    <DIR>          CAMBRIDGE_BIGGER\n",
      "05/15/2019  03:51 PM    <DIR>          Cambridge_bigger Phones Dev\n",
      "05/15/2019  03:51 PM    <DIR>          Cambridge_bigger Phones Test\n",
      "05/15/2019  03:51 PM    <DIR>          Cambridge_bigger Phones Train\n",
      "05/25/2019  04:13 PM    <DIR>          Cambridge_bigger Train AbsMax\n",
      "05/15/2019  03:57 PM    <DIR>          Cambridge_bigger Train MinMax\n",
      "05/25/2019  03:52 PM           432,658 Final Notebook.html\n",
      "01/22/2019  10:24 PM       183,173,931 L2monoPhoneDfTest.pickle\n",
      "01/22/2019  10:56 PM       391,178,932 L2monoPhoneDfTrain.pickle\n",
      "05/18/2019  10:56 PM    <DIR>          lessModels\n",
      "05/25/2019  04:48 PM            81,167 Model Training and Testing-MAX NORM.ipynb\n",
      "05/25/2019  04:03 PM           141,176 Model Training and Testing.ipynb\n",
      "05/26/2019  12:42 PM           141,462 Model Training-EC and Testing-L2.ipynb\n",
      "05/18/2019  05:41 PM    <DIR>          Models\n",
      "05/15/2019  03:46 PM            11,242 MonophoneCambridgeBig-LIBROSA.ipynb\n",
      "05/26/2019  12:42 PM                72 Phone Folders for L2.ipynb\n",
      "05/15/2019  03:28 PM    <DIR>          phoneDfs\n",
      "05/15/2019  03:29 PM               678 phoneList.npy\n",
      "05/25/2019  04:15 PM           290,252 ScrappingCode.html\n",
      "05/25/2019  04:24 PM    <DIR>          tanhModels\n",
      "05/25/2019  04:13 PM            14,001 Train Val Test and Train scalings for Cambridge Big - LIBROSA.ipynb\n",
      "              11 File(s)    575,465,571 bytes\n",
      "              13 Dir(s)  938,355,027,968 bytes free\n"
     ]
    }
   ],
   "source": [
    "!dir"
   ]
  },
  {
   "cell_type": "code",
   "execution_count": 65,
   "metadata": {},
   "outputs": [],
   "source": [
    "test_featureDf = pd.read_pickle(\"./L2monoPhoneDfTest.pickle\")"
   ]
  },
  {
   "cell_type": "code",
   "execution_count": 66,
   "metadata": {},
   "outputs": [
    {
     "data": {
      "text/html": [
       "<div>\n",
       "<style scoped>\n",
       "    .dataframe tbody tr th:only-of-type {\n",
       "        vertical-align: middle;\n",
       "    }\n",
       "\n",
       "    .dataframe tbody tr th {\n",
       "        vertical-align: top;\n",
       "    }\n",
       "\n",
       "    .dataframe thead th {\n",
       "        text-align: right;\n",
       "    }\n",
       "</style>\n",
       "<table border=\"1\" class=\"dataframe\">\n",
       "  <thead>\n",
       "    <tr style=\"text-align: right;\">\n",
       "      <th></th>\n",
       "      <th>phones</th>\n",
       "      <th>n_frames</th>\n",
       "      <th>labels</th>\n",
       "      <th>errorType</th>\n",
       "      <th>MFCCs</th>\n",
       "    </tr>\n",
       "  </thead>\n",
       "  <tbody>\n",
       "    <tr>\n",
       "      <th>0</th>\n",
       "      <td>G</td>\n",
       "      <td>25578</td>\n",
       "      <td>1</td>\n",
       "      <td>c</td>\n",
       "      <td>[[-423.77322755406794, -411.9959932464969, -41...</td>\n",
       "    </tr>\n",
       "    <tr>\n",
       "      <th>1</th>\n",
       "      <td>AA1</td>\n",
       "      <td>25578</td>\n",
       "      <td>1</td>\n",
       "      <td>c</td>\n",
       "      <td>[[-221.94339159438036, -221.9371806257653, -22...</td>\n",
       "    </tr>\n",
       "    <tr>\n",
       "      <th>2</th>\n",
       "      <td>D</td>\n",
       "      <td>25578</td>\n",
       "      <td>1</td>\n",
       "      <td>c</td>\n",
       "      <td>[[-325.1734666200506, -337.9629833826362, -363...</td>\n",
       "    </tr>\n",
       "    <tr>\n",
       "      <th>3</th>\n",
       "      <td>B</td>\n",
       "      <td>25578</td>\n",
       "      <td>1</td>\n",
       "      <td>c</td>\n",
       "      <td>[[-447.436674575593, -452.4805757789892, -464....</td>\n",
       "    </tr>\n",
       "    <tr>\n",
       "      <th>4</th>\n",
       "      <td>L</td>\n",
       "      <td>25578</td>\n",
       "      <td>1</td>\n",
       "      <td>c</td>\n",
       "      <td>[[-292.9672733282472, -267.3215759439314, -275...</td>\n",
       "    </tr>\n",
       "  </tbody>\n",
       "</table>\n",
       "</div>"
      ],
      "text/plain": [
       "  phones  n_frames  labels errorType  \\\n",
       "0      G     25578       1         c   \n",
       "1    AA1     25578       1         c   \n",
       "2      D     25578       1         c   \n",
       "3      B     25578       1         c   \n",
       "4      L     25578       1         c   \n",
       "\n",
       "                                               MFCCs  \n",
       "0  [[-423.77322755406794, -411.9959932464969, -41...  \n",
       "1  [[-221.94339159438036, -221.9371806257653, -22...  \n",
       "2  [[-325.1734666200506, -337.9629833826362, -363...  \n",
       "3  [[-447.436674575593, -452.4805757789892, -464....  \n",
       "4  [[-292.9672733282472, -267.3215759439314, -275...  "
      ]
     },
     "execution_count": 66,
     "metadata": {},
     "output_type": "execute_result"
    }
   ],
   "source": [
    "test_featureDf.head()"
   ]
  },
  {
   "cell_type": "code",
   "execution_count": 67,
   "metadata": {},
   "outputs": [],
   "source": [
    "test_featureDf['deltaC'] = test_featureDf.MFCCs.apply(librosa.feature.delta)\n",
    "test_featureDf['doubleDeltaC'] = test_featureDf.MFCCs.apply(librosa.feature.delta, order=2)"
   ]
  },
  {
   "cell_type": "code",
   "execution_count": 68,
   "metadata": {},
   "outputs": [
    {
     "name": "stdout",
     "output_type": "stream",
     "text": [
      "Test Phones:  34799\n",
      "Unique Test Phones:  71\n"
     ]
    }
   ],
   "source": [
    "print(\"Test Phones: \", len(test_featureDf.phones))\n",
    "print(\"Unique Test Phones: \", len(set(test_featureDf.phones)))"
   ]
  },
  {
   "cell_type": "code",
   "execution_count": 69,
   "metadata": {},
   "outputs": [],
   "source": [
    "#remove stresses\n",
    "test_featureDf.phones = [''.join([alpha for alpha in phone if alpha.isalpha()]) for phone in test_featureDf.phones]"
   ]
  },
  {
   "cell_type": "code",
   "execution_count": 70,
   "metadata": {},
   "outputs": [
    {
     "name": "stdout",
     "output_type": "stream",
     "text": [
      "Unique Test Phones:  42\n"
     ]
    }
   ],
   "source": [
    "print(\"Unique Test Phones: \", len(set(test_featureDf.phones)))"
   ]
  },
  {
   "cell_type": "code",
   "execution_count": 71,
   "metadata": {},
   "outputs": [
    {
     "data": {
      "text/html": [
       "<div>\n",
       "<style scoped>\n",
       "    .dataframe tbody tr th:only-of-type {\n",
       "        vertical-align: middle;\n",
       "    }\n",
       "\n",
       "    .dataframe tbody tr th {\n",
       "        vertical-align: top;\n",
       "    }\n",
       "\n",
       "    .dataframe thead th {\n",
       "        text-align: right;\n",
       "    }\n",
       "</style>\n",
       "<table border=\"1\" class=\"dataframe\">\n",
       "  <thead>\n",
       "    <tr style=\"text-align: right;\">\n",
       "      <th></th>\n",
       "      <th>phones</th>\n",
       "      <th>n_frames</th>\n",
       "      <th>labels</th>\n",
       "      <th>errorType</th>\n",
       "      <th>MFCCs</th>\n",
       "      <th>deltaC</th>\n",
       "      <th>doubleDeltaC</th>\n",
       "    </tr>\n",
       "  </thead>\n",
       "  <tbody>\n",
       "    <tr>\n",
       "      <th>0</th>\n",
       "      <td>G</td>\n",
       "      <td>25578</td>\n",
       "      <td>1</td>\n",
       "      <td>c</td>\n",
       "      <td>[[-423.77322755406794, -411.9959932464969, -41...</td>\n",
       "      <td>[[22.300710618871317, 22.300710618871317, 22.3...</td>\n",
       "      <td>[[9.696126870518768, 9.696126870518768, 9.6961...</td>\n",
       "    </tr>\n",
       "    <tr>\n",
       "      <th>1</th>\n",
       "      <td>AA</td>\n",
       "      <td>25578</td>\n",
       "      <td>1</td>\n",
       "      <td>c</td>\n",
       "      <td>[[-221.94339159438036, -221.9371806257653, -22...</td>\n",
       "      <td>[[-11.524404444499638, -11.524404444499638, -1...</td>\n",
       "      <td>[[-9.994265686136963, -9.994265686136963, -9.9...</td>\n",
       "    </tr>\n",
       "    <tr>\n",
       "      <th>2</th>\n",
       "      <td>D</td>\n",
       "      <td>25578</td>\n",
       "      <td>1</td>\n",
       "      <td>c</td>\n",
       "      <td>[[-325.1734666200506, -337.9629833826362, -363...</td>\n",
       "      <td>[[-15.686472752824004, -15.686472752824004, -1...</td>\n",
       "      <td>[[1.1662679563217837, 1.1662679563217837, 1.16...</td>\n",
       "    </tr>\n",
       "    <tr>\n",
       "      <th>3</th>\n",
       "      <td>B</td>\n",
       "      <td>25578</td>\n",
       "      <td>1</td>\n",
       "      <td>c</td>\n",
       "      <td>[[-447.436674575593, -452.4805757789892, -464....</td>\n",
       "      <td>[[-34.727038663343485, -34.727038663343485, -3...</td>\n",
       "      <td>[[-34.82559064172155, -34.82559064172155, -34....</td>\n",
       "    </tr>\n",
       "    <tr>\n",
       "      <th>4</th>\n",
       "      <td>L</td>\n",
       "      <td>25578</td>\n",
       "      <td>1</td>\n",
       "      <td>c</td>\n",
       "      <td>[[-292.9672733282472, -267.3215759439314, -275...</td>\n",
       "      <td>[[-3.6625277966476655, -3.6625277966476655, -3...</td>\n",
       "      <td>[[7.597755619620676, 7.597755619620676, 7.5977...</td>\n",
       "    </tr>\n",
       "  </tbody>\n",
       "</table>\n",
       "</div>"
      ],
      "text/plain": [
       "  phones  n_frames  labels errorType  \\\n",
       "0      G     25578       1         c   \n",
       "1     AA     25578       1         c   \n",
       "2      D     25578       1         c   \n",
       "3      B     25578       1         c   \n",
       "4      L     25578       1         c   \n",
       "\n",
       "                                               MFCCs  \\\n",
       "0  [[-423.77322755406794, -411.9959932464969, -41...   \n",
       "1  [[-221.94339159438036, -221.9371806257653, -22...   \n",
       "2  [[-325.1734666200506, -337.9629833826362, -363...   \n",
       "3  [[-447.436674575593, -452.4805757789892, -464....   \n",
       "4  [[-292.9672733282472, -267.3215759439314, -275...   \n",
       "\n",
       "                                              deltaC  \\\n",
       "0  [[22.300710618871317, 22.300710618871317, 22.3...   \n",
       "1  [[-11.524404444499638, -11.524404444499638, -1...   \n",
       "2  [[-15.686472752824004, -15.686472752824004, -1...   \n",
       "3  [[-34.727038663343485, -34.727038663343485, -3...   \n",
       "4  [[-3.6625277966476655, -3.6625277966476655, -3...   \n",
       "\n",
       "                                        doubleDeltaC  \n",
       "0  [[9.696126870518768, 9.696126870518768, 9.6961...  \n",
       "1  [[-9.994265686136963, -9.994265686136963, -9.9...  \n",
       "2  [[1.1662679563217837, 1.1662679563217837, 1.16...  \n",
       "3  [[-34.82559064172155, -34.82559064172155, -34....  \n",
       "4  [[7.597755619620676, 7.597755619620676, 7.5977...  "
      ]
     },
     "execution_count": 71,
     "metadata": {},
     "output_type": "execute_result"
    }
   ],
   "source": [
    "test_featureDf.head()"
   ]
  },
  {
   "cell_type": "code",
   "execution_count": 72,
   "metadata": {},
   "outputs": [
    {
     "data": {
      "text/plain": [
       "c     30761\n",
       "s      2290\n",
       " s      899\n",
       " d      277\n",
       "d       194\n",
       "a       186\n",
       " a      111\n",
       "S        79\n",
       "D         2\n",
       "Name: errorType, dtype: int64"
      ]
     },
     "execution_count": 72,
     "metadata": {},
     "output_type": "execute_result"
    }
   ],
   "source": [
    "test_featureDf[\"errorType\"].value_counts()"
   ]
  },
  {
   "cell_type": "code",
   "execution_count": 73,
   "metadata": {},
   "outputs": [],
   "source": [
    "#only substitution errors needed\n",
    "test_featureDf = test_featureDf[test_featureDf[\"errorType\"].isin(['s',' s','S','c',' S'])].copy()"
   ]
  },
  {
   "cell_type": "code",
   "execution_count": 74,
   "metadata": {},
   "outputs": [
    {
     "data": {
      "text/plain": [
       "(34029, 7)"
      ]
     },
     "execution_count": 74,
     "metadata": {},
     "output_type": "execute_result"
    }
   ],
   "source": [
    "test_featureDf.shape"
   ]
  },
  {
   "cell_type": "code",
   "execution_count": 75,
   "metadata": {},
   "outputs": [
    {
     "data": {
      "text/plain": [
       "1    30761\n",
       "0     3268\n",
       "Name: labels, dtype: int64"
      ]
     },
     "execution_count": 75,
     "metadata": {},
     "output_type": "execute_result"
    }
   ],
   "source": [
    "test_featureDf.labels.value_counts()"
   ]
  },
  {
   "cell_type": "code",
   "execution_count": 76,
   "metadata": {},
   "outputs": [],
   "source": [
    "test_featureDf.drop(columns=[\"errorType\",\"n_frames\"],inplace=True)"
   ]
  },
  {
   "cell_type": "code",
   "execution_count": 77,
   "metadata": {},
   "outputs": [
    {
     "data": {
      "text/html": [
       "<div>\n",
       "<style scoped>\n",
       "    .dataframe tbody tr th:only-of-type {\n",
       "        vertical-align: middle;\n",
       "    }\n",
       "\n",
       "    .dataframe tbody tr th {\n",
       "        vertical-align: top;\n",
       "    }\n",
       "\n",
       "    .dataframe thead th {\n",
       "        text-align: right;\n",
       "    }\n",
       "</style>\n",
       "<table border=\"1\" class=\"dataframe\">\n",
       "  <thead>\n",
       "    <tr style=\"text-align: right;\">\n",
       "      <th></th>\n",
       "      <th>phones</th>\n",
       "      <th>labels</th>\n",
       "      <th>MFCCs</th>\n",
       "      <th>deltaC</th>\n",
       "      <th>doubleDeltaC</th>\n",
       "    </tr>\n",
       "  </thead>\n",
       "  <tbody>\n",
       "    <tr>\n",
       "      <th>0</th>\n",
       "      <td>G</td>\n",
       "      <td>1</td>\n",
       "      <td>[[-423.77322755406794, -411.9959932464969, -41...</td>\n",
       "      <td>[[22.300710618871317, 22.300710618871317, 22.3...</td>\n",
       "      <td>[[9.696126870518768, 9.696126870518768, 9.6961...</td>\n",
       "    </tr>\n",
       "    <tr>\n",
       "      <th>1</th>\n",
       "      <td>AA</td>\n",
       "      <td>1</td>\n",
       "      <td>[[-221.94339159438036, -221.9371806257653, -22...</td>\n",
       "      <td>[[-11.524404444499638, -11.524404444499638, -1...</td>\n",
       "      <td>[[-9.994265686136963, -9.994265686136963, -9.9...</td>\n",
       "    </tr>\n",
       "    <tr>\n",
       "      <th>2</th>\n",
       "      <td>D</td>\n",
       "      <td>1</td>\n",
       "      <td>[[-325.1734666200506, -337.9629833826362, -363...</td>\n",
       "      <td>[[-15.686472752824004, -15.686472752824004, -1...</td>\n",
       "      <td>[[1.1662679563217837, 1.1662679563217837, 1.16...</td>\n",
       "    </tr>\n",
       "    <tr>\n",
       "      <th>3</th>\n",
       "      <td>B</td>\n",
       "      <td>1</td>\n",
       "      <td>[[-447.436674575593, -452.4805757789892, -464....</td>\n",
       "      <td>[[-34.727038663343485, -34.727038663343485, -3...</td>\n",
       "      <td>[[-34.82559064172155, -34.82559064172155, -34....</td>\n",
       "    </tr>\n",
       "    <tr>\n",
       "      <th>4</th>\n",
       "      <td>L</td>\n",
       "      <td>1</td>\n",
       "      <td>[[-292.9672733282472, -267.3215759439314, -275...</td>\n",
       "      <td>[[-3.6625277966476655, -3.6625277966476655, -3...</td>\n",
       "      <td>[[7.597755619620676, 7.597755619620676, 7.5977...</td>\n",
       "    </tr>\n",
       "  </tbody>\n",
       "</table>\n",
       "</div>"
      ],
      "text/plain": [
       "  phones  labels                                              MFCCs  \\\n",
       "0      G       1  [[-423.77322755406794, -411.9959932464969, -41...   \n",
       "1     AA       1  [[-221.94339159438036, -221.9371806257653, -22...   \n",
       "2      D       1  [[-325.1734666200506, -337.9629833826362, -363...   \n",
       "3      B       1  [[-447.436674575593, -452.4805757789892, -464....   \n",
       "4      L       1  [[-292.9672733282472, -267.3215759439314, -275...   \n",
       "\n",
       "                                              deltaC  \\\n",
       "0  [[22.300710618871317, 22.300710618871317, 22.3...   \n",
       "1  [[-11.524404444499638, -11.524404444499638, -1...   \n",
       "2  [[-15.686472752824004, -15.686472752824004, -1...   \n",
       "3  [[-34.727038663343485, -34.727038663343485, -3...   \n",
       "4  [[-3.6625277966476655, -3.6625277966476655, -3...   \n",
       "\n",
       "                                        doubleDeltaC  \n",
       "0  [[9.696126870518768, 9.696126870518768, 9.6961...  \n",
       "1  [[-9.994265686136963, -9.994265686136963, -9.9...  \n",
       "2  [[1.1662679563217837, 1.1662679563217837, 1.16...  \n",
       "3  [[-34.82559064172155, -34.82559064172155, -34....  \n",
       "4  [[7.597755619620676, 7.597755619620676, 7.5977...  "
      ]
     },
     "execution_count": 77,
     "metadata": {},
     "output_type": "execute_result"
    }
   ],
   "source": [
    "test_featureDf.head()"
   ]
  },
  {
   "cell_type": "code",
   "execution_count": 78,
   "metadata": {},
   "outputs": [
    {
     "data": {
      "text/plain": [
       "(42,)"
      ]
     },
     "execution_count": 78,
     "metadata": {},
     "output_type": "execute_result"
    }
   ],
   "source": [
    "test_featureDf.phones.unique().shape"
   ]
  },
  {
   "cell_type": "code",
   "execution_count": 81,
   "metadata": {
    "scrolled": false
   },
   "outputs": [
    {
     "name": "stdout",
     "output_type": "stream",
     "text": [
      "Shape of X_test:  (240, 13, 50, 3)\n",
      "Shape of y_test:  (240,)\n",
      "Shape of X_test:  (450, 13, 50, 3)\n",
      "Shape of y_test:  (450,)\n",
      "Shape of X_test:  (1284, 13, 50, 3)\n",
      "Shape of y_test:  (1284,)\n",
      "Shape of X_test:  (418, 13, 50, 3)\n",
      "Shape of y_test:  (418,)\n",
      "Shape of X_test:  (981, 13, 50, 3)\n",
      "Shape of y_test:  (981,)\n",
      "Shape of X_test:  (689, 13, 50, 3)\n",
      "Shape of y_test:  (689,)\n",
      "Shape of X_test:  (1304, 13, 50, 3)\n",
      "Shape of y_test:  (1304,)\n",
      "Shape of X_test:  (1763, 13, 50, 3)\n",
      "Shape of y_test:  (1763,)\n",
      "Shape of X_test:  (2904, 13, 50, 3)\n",
      "Shape of y_test:  (2904,)\n",
      "Shape of X_test:  (971, 13, 50, 3)\n",
      "Shape of y_test:  (971,)\n",
      "Shape of X_test:  (683, 13, 50, 3)\n",
      "Shape of y_test:  (683,)\n",
      "Shape of X_test:  (819, 13, 50, 3)\n",
      "Shape of y_test:  (819,)\n",
      "Shape of X_test:  (638, 13, 50, 3)\n",
      "Shape of y_test:  (638,)\n",
      "Shape of X_test:  (554, 13, 50, 3)\n",
      "Shape of y_test:  (554,)\n",
      "Shape of X_test:  (504, 13, 50, 3)\n",
      "Shape of y_test:  (504,)\n",
      "Shape of X_test:  (1946, 13, 50, 3)\n",
      "Shape of y_test:  (1946,)\n",
      "Shape of X_test:  (1250, 13, 50, 3)\n",
      "Shape of y_test:  (1250,)\n",
      "Shape of X_test:  (2092, 13, 50, 3)\n",
      "Shape of y_test:  (2092,)\n",
      "Shape of X_test:  (418, 13, 50, 3)\n",
      "Shape of y_test:  (418,)\n",
      "Shape of X_test:  (963, 13, 50, 3)\n",
      "Shape of y_test:  (963,)\n",
      "Shape of X_test:  (813, 13, 50, 3)\n",
      "Shape of y_test:  (813,)\n",
      "Shape of X_test:  (742, 13, 50, 3)\n",
      "Shape of y_test:  (742,)\n",
      "Shape of X_test:  (615, 13, 50, 3)\n",
      "Shape of y_test:  (615,)\n",
      "Shape of X_test:  (1236, 13, 50, 3)\n",
      "Shape of y_test:  (1236,)\n",
      "Shape of X_test:  (1591, 13, 50, 3)\n",
      "Shape of y_test:  (1591,)\n",
      "Shape of X_test:  (889, 13, 50, 3)\n",
      "Shape of y_test:  (889,)\n",
      "Shape of X_test:  (194, 13, 50, 3)\n",
      "Shape of y_test:  (194,)\n",
      "Shape of X_test:  (1046, 13, 50, 3)\n",
      "Shape of y_test:  (1046,)\n",
      "Shape of X_test:  (398, 13, 50, 3)\n",
      "Shape of y_test:  (398,)\n",
      "Shape of X_test:  (1340, 13, 50, 3)\n",
      "Shape of y_test:  (1340,)\n",
      "Shape of X_test:  (810, 13, 50, 3)\n",
      "Shape of y_test:  (810,)\n",
      "Shape of X_test:  (920, 13, 50, 3)\n",
      "Shape of y_test:  (920,)\n",
      "Shape of X_test:  (386, 13, 50, 3)\n",
      "Shape of y_test:  (386,)\n",
      "Shape of X_test:  (610, 13, 50, 3)\n",
      "Shape of y_test:  (610,)\n",
      "Shape of X_test:  (160, 13, 50, 3)\n",
      "Shape of y_test:  (160,)\n",
      "Shape of X_test:  (240, 13, 50, 3)\n",
      "Shape of y_test:  (240,)\n",
      "Shape of X_test:  (159, 13, 50, 3)\n",
      "Shape of y_test:  (159,)\n",
      "Shape of X_test:  (701, 13, 50, 3)\n",
      "Shape of y_test:  (701,)\n",
      "Shape of X_test:  (244, 13, 50, 3)\n",
      "Shape of y_test:  (244,)\n",
      "Shape of X_test:  (60, 13, 50, 3)\n",
      "Shape of y_test:  (60,)\n",
      "Shape of X_test:  (3, 13, 50, 3)\n",
      "Shape of y_test:  (3,)\n"
     ]
    }
   ],
   "source": [
    "for phone in test_featureDf.phones.unique():\n",
    "    if phone != \"AX\":\n",
    "        p_featureDf = test_featureDf[test_featureDf[\"phones\"] == phone]\n",
    "        X_test = np.array((p_featureDf.MFCCs,p_featureDf.deltaC,p_featureDf.doubleDeltaC))\n",
    "        X_test = np.transpose(X_test,[1,2,3,0])\n",
    "        y_test = p_featureDf.labels.values\n",
    "        print(\"Shape of X_test: \", X_test.shape)\n",
    "        print(\"Shape of y_test: \", y_test.shape)\n",
    "        np.save(\"./L2 Phones Dev/\"+phone+\"_X.npy\",X_test)\n",
    "        np.save(\"./L2 Phones Dev/\"+phone+\"_y.npy\",y_test)"
   ]
  },
  {
   "cell_type": "code",
   "execution_count": 85,
   "metadata": {},
   "outputs": [
    {
     "data": {
      "text/plain": [
       "False"
      ]
     },
     "execution_count": 85,
     "metadata": {},
     "output_type": "execute_result"
    }
   ],
   "source": [
    "\"ZH\" in test_featureDf.phones.unique()"
   ]
  }
 ],
 "metadata": {
  "kernelspec": {
   "display_name": "Python 3",
   "language": "python",
   "name": "python3"
  },
  "language_info": {
   "codemirror_mode": {
    "name": "ipython",
    "version": 3
   },
   "file_extension": ".py",
   "mimetype": "text/x-python",
   "name": "python",
   "nbconvert_exporter": "python",
   "pygments_lexer": "ipython3",
   "version": "3.7.3"
  }
 },
 "nbformat": 4,
 "nbformat_minor": 2
}
