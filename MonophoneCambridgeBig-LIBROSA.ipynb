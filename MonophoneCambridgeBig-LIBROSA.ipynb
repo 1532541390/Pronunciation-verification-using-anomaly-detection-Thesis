{
 "cells": [
  {
   "cell_type": "code",
   "execution_count": 1,
   "metadata": {},
   "outputs": [
    {
     "data": {
      "text/plain": [
       "'D:\\\\Thesis Work\\\\InitialDemoWork'"
      ]
     },
     "execution_count": 1,
     "metadata": {},
     "output_type": "execute_result"
    }
   ],
   "source": [
    "pwd"
   ]
  },
  {
   "cell_type": "code",
   "execution_count": 2,
   "metadata": {},
   "outputs": [],
   "source": [
    "import os\n",
    "import tgt\n",
    "import IPython.display as ipd\n",
    "import librosa\n",
    "import numpy as np\n",
    "import pandas as pd\n",
    "from tqdm import tqdm_notebook"
   ]
  },
  {
   "cell_type": "code",
   "execution_count": 3,
   "metadata": {},
   "outputs": [
    {
     "data": {
      "application/vnd.jupyter.widget-view+json": {
       "model_id": "fbab6baa45d741f18439071e8d243466",
       "version_major": 2,
       "version_minor": 0
      },
      "text/plain": [
       "HBox(children=(IntProgress(value=0, max=29925), HTML(value='')))"
      ]
     },
     "metadata": {},
     "output_type": "display_data"
    },
    {
     "name": "stdout",
     "output_type": "stream",
     "text": [
      "\n"
     ]
    }
   ],
   "source": [
    "SAMPLE_RATE = 44100\n",
    "MAX_NFRAME = 25578 #to make (50,13) all phones safe in 99.7%\n",
    "mfccs = []\n",
    "phones = []\n",
    "n_frames = []\n",
    "#timeSeriesList = []\n",
    "\n",
    "\n",
    "files = [file[:-4] for file in os.listdir('./selectedToBeWavs/') if '.wav' in file]\n",
    "\n",
    "for file in tqdm_notebook(files): #a file per word\n",
    "    data, rate = librosa.core.load(\"./selectedToBeWavs/\"+file+\".wav\", sr=SAMPLE_RATE)\n",
    "    ann = tgt.io.read_textgrid('./alignedWavs/selectedToBeWavs/'+file+\".TextGrid\") #UTF-8\n",
    "    #Tiers: words, phones, IPA(UTF-8)\n",
    "    phoneTier = ann.get_tier_by_name(\"phones\") #format: (start,end,text)\n",
    "\n",
    "    for phone in phoneTier: #for every phone\n",
    "        timeSeries = data[int(phone.start_time*rate):int(phone.end_time*rate)]\n",
    "        if timeSeries.size <= MAX_NFRAME:\n",
    "            timeSeries=np.concatenate((timeSeries,np.zeros(MAX_NFRAME-timeSeries.size)))\n",
    "            #timeSeriesList.append(timeSeries)\n",
    "            mfccs.append(librosa.feature.mfcc(timeSeries, sr = SAMPLE_RATE, n_mfcc=13))\n",
    "            #mfccs.append(mfcc(timeSeries,SAMPLE_RATE,nfilt=13,nfft=2048,winfunc=np.hamming))\n",
    "            n_frames.append(timeSeries.size)\n",
    "            phones.append(phone.text)\n",
    "            \n",
    "#Some sample of the timeseries are listened to check consistency. Checks out.Very hard to listen to the phones though"
   ]
  },
  {
   "cell_type": "code",
   "execution_count": 4,
   "metadata": {},
   "outputs": [],
   "source": [
    "df = pd.DataFrame({'phones' : phones, 'n_frames': n_frames, 'MFCCs': mfccs})"
   ]
  },
  {
   "cell_type": "code",
   "execution_count": 5,
   "metadata": {},
   "outputs": [],
   "source": [
    "df.phones = [''.join([alpha for alpha in phone if alpha.isalpha()]) for phone in df.phones]"
   ]
  },
  {
   "cell_type": "code",
   "execution_count": 6,
   "metadata": {},
   "outputs": [
    {
     "data": {
      "text/plain": [
       "(224722, 3)"
      ]
     },
     "execution_count": 6,
     "metadata": {},
     "output_type": "execute_result"
    }
   ],
   "source": [
    "df.shape"
   ]
  },
  {
   "cell_type": "code",
   "execution_count": 7,
   "metadata": {},
   "outputs": [
    {
     "data": {
      "text/html": [
       "<div>\n",
       "<style scoped>\n",
       "    .dataframe tbody tr th:only-of-type {\n",
       "        vertical-align: middle;\n",
       "    }\n",
       "\n",
       "    .dataframe tbody tr th {\n",
       "        vertical-align: top;\n",
       "    }\n",
       "\n",
       "    .dataframe thead th {\n",
       "        text-align: right;\n",
       "    }\n",
       "</style>\n",
       "<table border=\"1\" class=\"dataframe\">\n",
       "  <thead>\n",
       "    <tr style=\"text-align: right;\">\n",
       "      <th></th>\n",
       "      <th>phones</th>\n",
       "      <th>n_frames</th>\n",
       "      <th>MFCCs</th>\n",
       "    </tr>\n",
       "  </thead>\n",
       "  <tbody>\n",
       "    <tr>\n",
       "      <th>0</th>\n",
       "      <td>AA</td>\n",
       "      <td>25578</td>\n",
       "      <td>[[-212.6292397588255, -180.4339980080033, -166...</td>\n",
       "    </tr>\n",
       "    <tr>\n",
       "      <th>1</th>\n",
       "      <td>sp</td>\n",
       "      <td>25578</td>\n",
       "      <td>[[-588.6476307487844, -601.2085347365278, -621...</td>\n",
       "    </tr>\n",
       "    <tr>\n",
       "      <th>2</th>\n",
       "      <td>R</td>\n",
       "      <td>25578</td>\n",
       "      <td>[[-233.00378201793862, -234.23804420914087, -2...</td>\n",
       "    </tr>\n",
       "    <tr>\n",
       "      <th>3</th>\n",
       "      <td>sp</td>\n",
       "      <td>25578</td>\n",
       "      <td>[[-687.5199944609631, -679.0043939829035, -693...</td>\n",
       "    </tr>\n",
       "    <tr>\n",
       "      <th>4</th>\n",
       "      <td>EY</td>\n",
       "      <td>25578</td>\n",
       "      <td>[[-179.22319403266283, -143.06206693968687, -1...</td>\n",
       "    </tr>\n",
       "  </tbody>\n",
       "</table>\n",
       "</div>"
      ],
      "text/plain": [
       "  phones  n_frames                                              MFCCs\n",
       "0     AA     25578  [[-212.6292397588255, -180.4339980080033, -166...\n",
       "1     sp     25578  [[-588.6476307487844, -601.2085347365278, -621...\n",
       "2      R     25578  [[-233.00378201793862, -234.23804420914087, -2...\n",
       "3     sp     25578  [[-687.5199944609631, -679.0043939829035, -693...\n",
       "4     EY     25578  [[-179.22319403266283, -143.06206693968687, -1..."
      ]
     },
     "execution_count": 7,
     "metadata": {},
     "output_type": "execute_result"
    }
   ],
   "source": [
    "df.head()"
   ]
  },
  {
   "cell_type": "code",
   "execution_count": 8,
   "metadata": {},
   "outputs": [
    {
     "data": {
      "text/plain": [
       "41"
      ]
     },
     "execution_count": 8,
     "metadata": {},
     "output_type": "execute_result"
    }
   ],
   "source": [
    "df.phones.nunique()"
   ]
  },
  {
   "cell_type": "code",
   "execution_count": 9,
   "metadata": {},
   "outputs": [
    {
     "data": {
      "text/plain": [
       "224722"
      ]
     },
     "execution_count": 9,
     "metadata": {},
     "output_type": "execute_result"
    }
   ],
   "source": [
    "sum(df.n_frames == 25578)"
   ]
  },
  {
   "cell_type": "code",
   "execution_count": 10,
   "metadata": {},
   "outputs": [
    {
     "data": {
      "text/plain": [
       "True"
      ]
     },
     "execution_count": 10,
     "metadata": {},
     "output_type": "execute_result"
    }
   ],
   "source": [
    "np.all(df.MFCCs.apply(np.shape) == (13,50))"
   ]
  },
  {
   "cell_type": "code",
   "execution_count": 11,
   "metadata": {},
   "outputs": [],
   "source": [
    "for phone in df.phones.unique():\n",
    "    df[df.phones==phone].drop([\"phones\",\"n_frames\"],axis=1).to_pickle(\"./Cambridge_bigger USING LIBROSA/phoneDfs/\"+phone+\"_df.pickle\")"
   ]
  },
  {
   "cell_type": "code",
   "execution_count": 12,
   "metadata": {},
   "outputs": [],
   "source": [
    "np.save(\"./Cambridge_bigger USING LIBROSA/phoneList.npy\",np.array(df.phones.unique()))"
   ]
  },
  {
   "cell_type": "markdown",
   "metadata": {},
   "source": [
    "#### Delta Features:"
   ]
  },
  {
   "cell_type": "code",
   "execution_count": 4,
   "metadata": {
    "scrolled": false
   },
   "outputs": [
    {
     "data": {
      "application/vnd.jupyter.widget-view+json": {
       "model_id": "2eade8cbb04f48318bd2c65d5267e8e6",
       "version_major": 2,
       "version_minor": 0
      },
      "text/plain": [
       "HBox(children=(IntProgress(value=0, max=41), HTML(value='')))"
      ]
     },
     "metadata": {},
     "output_type": "display_data"
    },
    {
     "name": "stdout",
     "output_type": "stream",
     "text": [
      "(3889, 1)\n",
      "(20712, 1)\n",
      "(10364, 1)\n",
      "(3786, 1)\n",
      "(4367, 1)\n",
      "(8690, 1)\n",
      "(21038, 1)\n",
      "(4927, 1)\n",
      "(9416, 1)\n",
      "(12562, 1)\n",
      "(3862, 1)\n",
      "(3568, 1)\n",
      "(13505, 1)\n",
      "(12399, 1)\n",
      "(2691, 1)\n",
      "(14294, 1)\n",
      "(7424, 1)\n",
      "(6341, 1)\n",
      "(2828, 1)\n",
      "(1839, 1)\n",
      "(5788, 1)\n",
      "(2738, 1)\n",
      "(13094, 1)\n",
      "(6155, 1)\n",
      "(2661, 1)\n",
      "(1478, 1)\n",
      "(2400, 1)\n",
      "(2154, 1)\n",
      "(1649, 1)\n",
      "(2180, 1)\n",
      "(2213, 1)\n",
      "(2486, 1)\n",
      "(739, 1)\n",
      "(190, 1)\n",
      "(6113, 1)\n",
      "(726, 1)\n",
      "(1289, 1)\n",
      "(1111, 1)\n",
      "(556, 1)\n",
      "(295, 1)\n",
      "(205, 1)\n",
      "\n"
     ]
    }
   ],
   "source": [
    "phoneList = np.load(\"./Cambridge_bigger USING LIBROSA/phoneList.npy\",allow_pickle=True)\n",
    "for phone in tqdm_notebook(phoneList):\n",
    "    df = pd.read_pickle(\"./Cambridge_bigger USING LIBROSA/phoneDfs/\"+phone+\"_df.pickle\")\n",
    "    print(df.shape)\n",
    "    df['deltaC'] = df.MFCCs.apply(librosa.feature.delta)\n",
    "    df['doubleDeltaC'] = df.MFCCs.apply(librosa.feature.delta, order=2)\n",
    "    X = np.array((df.MFCCs,df.deltaC,df.doubleDeltaC))\n",
    "    X = np.transpose(X,[1,2,3,0])\n",
    "    np.save('./Cambridge_bigger USING LIBROSA/CAMBRIDGE_BIGGER/'+phone+'_X.npy',X) #Feature vector batch"
   ]
  },
  {
   "cell_type": "code",
   "execution_count": 5,
   "metadata": {
    "scrolled": true
   },
   "outputs": [
    {
     "data": {
      "text/plain": [
       "224722"
      ]
     },
     "execution_count": 5,
     "metadata": {},
     "output_type": "execute_result"
    }
   ],
   "source": [
    "3889+20712+10364+3786+4367+8690+21038+4927+9416+12562+3862+3568+13505+12399+2691+14294+7424+6341+2828+1839+5788+2738+13094+6155+2661+1478+2400+2154+1649+2180+2213+2486+739+190+6113+726+1289+1111+556+295+205"
   ]
  },
  {
   "cell_type": "code",
   "execution_count": 6,
   "metadata": {},
   "outputs": [
    {
     "data": {
      "text/plain": [
       "(205, 13, 50, 3)"
      ]
     },
     "execution_count": 6,
     "metadata": {},
     "output_type": "execute_result"
    }
   ],
   "source": [
    "X.shape"
   ]
  },
  {
   "cell_type": "markdown",
   "metadata": {},
   "source": [
    "_______"
   ]
  },
  {
   "cell_type": "markdown",
   "metadata": {},
   "source": [
    "---------"
   ]
  }
 ],
 "metadata": {
  "kernelspec": {
   "display_name": "Python 3",
   "language": "python",
   "name": "python3"
  },
  "language_info": {
   "codemirror_mode": {
    "name": "ipython",
    "version": 3
   },
   "file_extension": ".py",
   "mimetype": "text/x-python",
   "name": "python",
   "nbconvert_exporter": "python",
   "pygments_lexer": "ipython3",
   "version": "3.7.3"
  }
 },
 "nbformat": 4,
 "nbformat_minor": 2
}
